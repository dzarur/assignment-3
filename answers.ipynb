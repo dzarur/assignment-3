{
 "cells": [
  {
   "cell_type": "markdown",
   "metadata": {},
   "source": [
    "# Assignment 3: Advanced Python (30 pt)\n",
    "\n",
    "This assignment covers materials from the material on loops, functions, and NumPy lectures.\n",
    "\n",
    "Note that these questions are longer and somewhat more open ended than previous assignments. Please reach out if you need assistance getting started.\n",
    "\n",
    "Feel free to create as many Python or Markdown cells as you desire to answer the questions."
   ]
  },
  {
   "cell_type": "markdown",
   "metadata": {},
   "source": [
    "## Question 1: For loops (10 pts)\n",
    "\n",
    "Below, we have a nested dictionary structure containing information about several species ranging from vulnerable to critically endangered. Note than in some cases, species populations are listed as `None`. This means that the wild populations of these species are unknown. \n",
    "\n",
    "Use for loops to accomplish the following tasks: \n",
    "\n",
    "- Create a data structure containing all unique types of \"Threats\". This variable should not contain duplicate entries. Print the structure (2 pt).\n",
    "- Create a list of all of the species listed as \"Critically Endangered\". Print the list (2 pt).\n",
    "- Create a separate list containing the names of species with populations with fewer than 50 individuals and species with unknown population sizes. Print the list (3 pt).\n",
    "- Find the species with the largest population size. Print this species name, and what its population size is (3 pt).\n",
    "\n",
    "If you hard code the solutions (e.g. manually pick out which species has the largest population) you will receive NO points."
   ]
  },
  {
   "cell_type": "code",
   "execution_count": 29,
   "metadata": {},
   "outputs": [
    {
     "name": "stdout",
     "output_type": "stream",
     "text": [
      "Threats: {'Poaching', 'Civil unrest', 'Habitat loss', 'Bycatch in fishing nets'}\n",
      "Animals Critically Endangered: ['Mountain Gorilla', 'Amur Leopard', 'Vaquita', 'Vaquita', 'Javan Rhino', 'Sumatran Orangutan', 'Hawksbill Turtle', 'Saola']\n",
      "Species with populations below 50 and animals with unknown population sizes: ['Hawksbill Turtle', 'Saola']\n",
      "Iberian Lynx  has the largest population size of 415000\n"
     ]
    }
   ],
   "source": [
    "\n",
    "conservation_data = {\n",
    "    \"Giant Panda\": {\n",
    "        \"Status\": \"Endangered\",\n",
    "        \"Population\": 1800,\n",
    "        \"Threats\": [\"Habitat loss\", \"Poaching\"]\n",
    "    },\n",
    "    \"Mountain Gorilla\": {\n",
    "        \"Status\": \"Critically Endangered\",\n",
    "        \"Population\": 1063,\n",
    "        \"Threats\": [\"Habitat loss\", \"Poaching\", \"Civil unrest\"]\n",
    "    },\n",
    "    \"Amur Leopard\": {\n",
    "        \"Status\": \"Critically Endangered\",\n",
    "        \"Population\": 84,\n",
    "        \"Threats\": [\"Habitat loss\", \"Poaching\"]\n",
    "    },\n",
    "    \"Vaquita\": {\n",
    "        \"Status\": \"Critically Endangered\",\n",
    "        \"Population\": 10,\n",
    "        \"Threats\": [\"Bycatch in fishing nets\"]\n",
    "    },\n",
    "    \"African Elephant\": {\n",
    "        \"Status\": \"Vulnerable\",\n",
    "        \"Population\": 415000,\n",
    "        \"Threats\": [\"Habitat loss\", \"Poaching\"]\n",
    "    },\n",
    "    \"Javan Rhino\": {\n",
    "        \"Status\": \"Critically Endangered\",\n",
    "        \"Population\": 72,\n",
    "        \"Threats\": [\"Habitat loss\", \"Poaching\"]\n",
    "    },\n",
    "    \"Sumatran Orangutan\": {\n",
    "        \"Status\": \"Critically Endangered\",\n",
    "        \"Population\": 14600,\n",
    "        \"Threats\": [\"Habitat loss\", \"Poaching\"]\n",
    "    },\n",
    "    \"Hawksbill Turtle\": {\n",
    "        \"Status\": \"Critically Endangered\",\n",
    "        \"Population\": None,\n",
    "        \"Threats\": [\"Habitat loss\", \"Poaching\"]\n",
    "    },\n",
    "    \"Saola\": {\n",
    "        \"Status\": \"Critically Endangered\",\n",
    "        \"Population\": None,\n",
    "        \"Threats\": [\"Habitat loss\", \"Poaching\"]\n",
    "    },\n",
    "    \"Iberian Lynx\": {\n",
    "        \"Status\": \"Endangered\",\n",
    "        \"Population\": 94,\n",
    "        \"Threats\": [\"Habitat loss\", \"Poaching\"]\n",
    "    }\n",
    "}\n",
    "threats = set()\n",
    "cE = list()\n",
    "smallPop = list()\n",
    "largestPop = ''\n",
    "tempPop = 0\n",
    "biggestPopAnimal = ''\n",
    "for animal in conservation_data:\n",
    "    threats.update(conservation_data[animal]['Threats'])\n",
    "    if conservation_data[animal][\"Status\"] == \"Critically Endangered\":\n",
    "        cE.append(animal)\n",
    "    if conservation_data[animal][\"Population\"] == None:\n",
    "        smallPop.append(animal)\n",
    "    elif conservation_data[animal][\"Population\"] < 50:\n",
    "        cE.append(animal)\n",
    "    if conservation_data[animal][\"Population\"] != None and conservation_data[animal][\"Population\"] >= tempPop:\n",
    "        tempPop = conservation_data[animal][\"Population\"]\n",
    "        largestPop = conservation_data[animal]\n",
    "        biggestPopAnimal = animal\n",
    "print(\"Threats include:\", threats)\n",
    "print(\"Animals Critically Endangered:\", cE)\n",
    "print(\"Species with populations below 50 and animals with unknown population sizes:\", smallPop)\n",
    "print(animal, \" has the largest population size of\", tempPop)\n"
   ]
  },
  {
   "cell_type": "markdown",
   "metadata": {},
   "source": [
    "## Question 2: Functions (10 pt)\n",
    "\n",
    "When considering the health of an ecosystem, an important concept to quantify is the diversity of that system. There are several metrics commonly used to calculate ecosystem diversity, one of which is call Simpson's Diversity Index.\n",
    "\n",
    "This metric not takes into account how many species are present in an location, but also if one species has far more individuals than other species. For example, an ecosystem with 500 species but only one species above 10 individuals is not that diverse.\n",
    "\n",
    "We can calculate Simpson's Diversity ($D$) as follows:\n",
    "\n",
    "$D = 1 - [(\\frac{n_1}{N})^2 + (\\frac{n_2}{N})^2 + (\\frac{n_3}{N})^2 + ...]$\n",
    "\n",
    "For example, if an ecosystem has four species with 5, 2, 2, and 1 individuals (10 individuals total), you can calculate $D$ like this:\n",
    "\n",
    "$D = 1 - [(\\frac{5}{10})^2 + (\\frac{2}{10})^2 + (\\frac{2}{10})^2 + (\\frac{1}{10})^2] = 0.66$\n",
    "\n",
    "Define a function that calculates and returns $D$ given a list of species population levels, and run the function on several example lists (3 pt).\n",
    "\n",
    "Your answer should work for a list of **any** length (1 pt).\n",
    "\n",
    "Add documentation to the function that describes what it does, the desired parameters, and what data types the parameters should be (2 pt).\n",
    "\n",
    "Within the function, check that the input is a list. If the input is not a list, give a custom error message (2 pt).\n",
    "\n",
    "Also, make sure all entries in the list are integers. If there are floats, convert them to integers. If there are entries that are not floats or integers, give a custom error message (2 pt).\n",
    "\n"
   ]
  },
  {
   "cell_type": "code",
   "execution_count": 30,
   "metadata": {},
   "outputs": [
    {
     "name": "stdout",
     "output_type": "stream",
     "text": [
      "0.45\n",
      "0.7\n",
      "0.66\n"
     ]
    }
   ],
   "source": [
    "example_input = [1882, 400, 321, 24]\n",
    "def wierdMathFunction (aList):\n",
    "    if type(aList) != list:\n",
    "        return \"error 400\"\n",
    "    #this function uses the simpson Diversity therom to calculate diversity\n",
    "    total = aList[0]+aList[1]+aList[2]+aList[3]\n",
    "    D = 1-(((aList[0]/total)**2)+((aList[1]/total)**2)+((aList[2]/total)**2)+((aList[3]/total)**2)) #calculating simpons diversity for aList argument\n",
    "    D = round(D*100)/100.\n",
    "    return D\n",
    "print(wierdMathFunction(example_input))\n",
    "print(wierdMathFunction([1,2,3,4,5,6,5,7,8]))\n",
    "print(wierdMathFunction([5,2,2,1]))"
   ]
  },
  {
   "cell_type": "markdown",
   "metadata": {},
   "source": [
    "## Question 3: Simulating data (10 pt)\n",
    "\n",
    "In data analysis, we often simulate data to help test our predictions and get a feel for how the real data should be. This questions asks you to use the functions found in `numpy.random` to simulate rolling.\n",
    "\n",
    "Define a function called `dice_simulator()` with an integer parameter called `n`. This function should create a list of integers 1 through 6 and randomly sample this list with replacement `n` times. The function should return the `n` samples as a list or numpy array. Note that `n` should be a positive integer (2 pt).\n",
    "\n",
    "Define a function called `proportions()` to calculate what proportion of the \"rolls\" that are 1s, 2s, 3s, 4s, 5s, and 6s. Print these 6 proportions. `proportions()` should have a single parameter called `rolls`, which should take in the output of `dice_simulator()` (3 pt).\n",
    "\n",
    "Define a function called `three_streak()` to calculate the maximum number of times 3 was \"rolled\" in a row and print this value. To be in a row, the 3's have to be next to each other in a list (such as if `rolls[1]` and `rolls[2]` are both 3). Like `proportions()`, `three_streak()` should have a single parameter called `rolls`, which should take in the output of `dice_simulator()` (3 pt). \n",
    "- *Hint: `max()` is a built in function in Python that finds the largest value in a list.*\n",
    "\n",
    "Define a function called `simulation()` that calls `dice_simulator()`, `proportions()`, and `three_streak()`. Make sure that `proportions()` and `three_streak()` are called so that they use the same dice rolls. `simulation()` should take a single parameter `n` that is fed into `dice_simulator()`. Have this function print the value of n, as well (1 pt). \n",
    "\n",
    "Call `simulation()` several times with the `n` parameter at different values (1 pt). \n",
    "\n",
    "\n",
    "\n"
   ]
  },
  {
   "cell_type": "code",
   "execution_count": 35,
   "metadata": {},
   "outputs": [
    {
     "name": "stdout",
     "output_type": "stream",
     "text": [
      "Proportions of 1s:  0.4\n",
      "Proportions of 2s:  0.0\n",
      "Proportions of 3s:  0.0\n",
      "Proportions of 4s:  0.2\n",
      "Proportions of 5s:  0.2\n",
      "Proportions of 6s:  0.2\n",
      "Three streak: 0\n"
     ]
    }
   ],
   "source": [
    "import numpy as np\n",
    "def simulation():\n",
    "    n = int(input())\n",
    "    three_streak(proportions(dice_simulator(n)))\n",
    "    \n",
    "    \n",
    "def dice_simulator(n):\n",
    "    if n > 6:\n",
    "        return(\"The intiger you've selected is out of range. Try again!\")\n",
    "    dice = list(range(7))\n",
    "    roll = np.random.choice(dice,n,replace=True)\n",
    "    return np.array(roll)\n",
    "def proportions(rolls):\n",
    "    times = [0,0,0,0,0,0] #list with 6 vals for each roll choice\n",
    "    for number in rolls:\n",
    "        if number == 1:\n",
    "            times[0] +=1\n",
    "        if number == 2:\n",
    "            times[1] +=1\n",
    "        if number == 3:\n",
    "            times[2] +=1\n",
    "        if number == 4:\n",
    "            times[3] +=1\n",
    "        if number == 5:\n",
    "            times[4] +=1\n",
    "        if number == 6:\n",
    "            times[5] +=1\n",
    "    total = times[0]+times[1]+times[2]+times[3]+times[4]+times[5]\n",
    "    print(\"Proportions of 1s: \",times[0]/total)\n",
    "    print(\"Proportions of 2s: \",times[1]/total)\n",
    "    print(\"Proportions of 3s: \",times[2]/total)\n",
    "    print(\"Proportions of 4s: \",times[3]/total)\n",
    "    print(\"Proportions of 5s: \",times[4]/total)\n",
    "    print(\"Proportions of 6s: \",times[5]/total)\n",
    "    return times\n",
    "\n",
    "def three_streak(rolls):\n",
    "    test = 1\n",
    "    streak = 0\n",
    "    for number in rolls:\n",
    "        if number == 3 and number == rolls[test]:\n",
    "            streak +=1\n",
    "        test +=1\n",
    "    print(\"Three streak:\", streak)\n",
    "simulation()"
   ]
  }
 ],
 "metadata": {
  "kernelspec": {
   "display_name": "Python 3.9.12 ('base')",
   "language": "python",
   "name": "python3"
  },
  "language_info": {
   "codemirror_mode": {
    "name": "ipython",
    "version": 3
   },
   "file_extension": ".py",
   "mimetype": "text/x-python",
   "name": "python",
   "nbconvert_exporter": "python",
   "pygments_lexer": "ipython3",
   "version": "3.9.13"
  },
  "orig_nbformat": 4,
  "vscode": {
   "interpreter": {
    "hash": "b52b534d3e8b2df8a7f375ea8b488ed7c2e546a5d77230d70bd2c6badbd8c861"
   }
  }
 },
 "nbformat": 4,
 "nbformat_minor": 2
}
